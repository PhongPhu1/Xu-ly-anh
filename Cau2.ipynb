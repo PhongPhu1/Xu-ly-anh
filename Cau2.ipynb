{
 "cells": [
  {
   "cell_type": "code",
   "execution_count": null,
   "id": "1ea1fc46",
   "metadata": {},
   "outputs": [],
   "source": [
    "import numpy as np\n",
    "import imageio.v2 as iio\n",
    "import matplotlib.pyplot as plt\n",
    "\n",
    "GRB[0] = RGB[1]\n",
    "brg = np.stack([b, r, g], axis=-1).astype(np.uint8)\n",
    "\n",
    "# Ghi ảnh\n",
    "iio.imwrite(\"gbr.png\", gbr)\n",
    "iio.imwrite(\"brg.png\", brg)"
   ]
  }
 ],
 "metadata": {
  "language_info": {
   "name": "python"
  }
 },
 "nbformat": 4,
 "nbformat_minor": 5
}
