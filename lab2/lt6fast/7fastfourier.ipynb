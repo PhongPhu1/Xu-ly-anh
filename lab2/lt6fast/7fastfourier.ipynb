{
 "cells": [
  {
   "cell_type": "code",
   "execution_count": null,
   "metadata": {},
   "outputs": [],
   "source": [
    "from PIL import Image\n",
    "import math\n",
    "import scipy\n",
    "import numpy as np\n",
    "import imageio.v2 as iio\n",
    "import matplotlib.pylab as plt\n",
    "\n",
    "img = Image.open('world_cup.jpg').convert('L')\n",
    "im1 = np.asarray(img)\n",
    "c = abs(scipy.fftpack.fft2(im1))\n",
    "d = scipy.fftpack.fftshift(c)\n",
    "d = d.astype(float)\n",
    "im3 = Image.fromarray(d)\n",
    "\n",
    "img.show()\n",
    "im3.show()\n",
    "plt.imshow(im3)\n",
    "plt.show()\n"
   ]
  }
 ],
 "metadata": {
  "language_info": {
   "name": "python"
  },
  "orig_nbformat": 4
 },
 "nbformat": 4,
 "nbformat_minor": 2
}
