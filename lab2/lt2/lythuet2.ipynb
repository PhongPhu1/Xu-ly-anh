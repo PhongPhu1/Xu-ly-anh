{
 "cells": [
  {
   "cell_type": "code",
   "execution_count": null,
   "metadata": {},
   "outputs": [],
   "source": [
    "from PIL import Image\n",
    "import math\n",
    "import scipy\n",
    "import numpy as np\n",
    "import imageio.v2 as iio\n",
    "import matplotlib.pylab as plt\n",
    "#open a grayscale image\n",
    "img = Image.open('world_cup.jpg').convert('L')\n",
    "#convert image 1 into an ndarray\n",
    "im_1 = np.asarray (img)\n",
    "#init gamma\n",
    "gamma = 5\n",
    "#convert ndarray from int to float\n",
    "bl = im_1.astype (float)\n",
    "#find maximum value in bl\n",
    "b2 = np.max(bl)\n",
    "#b3 is normalized\n",
    "b3 = bl/b2\n",
    "#b2 gamma correction exponent is computed\n",
    "b2 = np.log (b3) * gamma\n",
    "#gamma correction is computed\n",
    "c = np.exp (b2) * 255.0\n",
    "#cl is converted to type int\n",
    "cl = c.astype (int)\n",
    "d = Image.fromarray (cl)\n",
    "img.show()\n",
    "d.show()\n",
    "plt.imshow(d)\n",
    "plt.show()"
   ]
  }
 ],
 "metadata": {
  "language_info": {
   "name": "python"
  },
  "orig_nbformat": 4
 },
 "nbformat": 4,
 "nbformat_minor": 2
}
