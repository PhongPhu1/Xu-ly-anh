{
 "cells": [
  {
   "cell_type": "code",
   "execution_count": null,
   "metadata": {},
   "outputs": [],
   "source": [
    "from PIL import Image\n",
    "import math\n",
    "import scipy\n",
    "import numpy as np\n",
    "import imageio.v2 as iio\n",
    "import matplotlib.pylab as plt\n",
    "#open a grayscale image\n",
    "img = Image.open('world_cup.jpg').convert('L')\n",
    "#convert image 1 into an ndarray\n",
    "im_1 = np.asarray (img)\n",
    "#convert ndarray from int to float\n",
    "b1 = im_1.astype (float)\n",
    "#find maximum value in bl\n",
    "b2 = np.max (b1)\n",
    "#performing the log transformation\n",
    "c = (128.0* np.log(1+b1))/np.log(1 + b2)\n",
    "#cl is converted to type int\n",
    "cl = c.astype (int)\n",
    "d = Image.fromarray (cl)\n",
    "img.show()\n",
    "d.show()\n",
    "plt.imshow (d)\n",
    "plt.show()"
   ]
  }
 ],
 "metadata": {
  "language_info": {
   "name": "python"
  },
  "orig_nbformat": 4
 },
 "nbformat": 4,
 "nbformat_minor": 2
}
