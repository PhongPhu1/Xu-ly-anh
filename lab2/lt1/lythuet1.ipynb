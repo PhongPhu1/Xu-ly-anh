{
 "cells": [
  {
   "cell_type": "code",
   "execution_count": null,
   "metadata": {},
   "outputs": [],
   "source": [
    "from PIL import Image\n",
    "import math\n",
    "import scipy\n",
    "import numpy as np\n",
    "import imageio.v2 as iio\n",
    "import matplotlib.pylab as plt\n",
    "\n",
    "img = Image.open('world_cup.jpg') .convert('L')\n",
    "#convert image 1 into an ndarray\n",
    "im_1 = np.asarray(img)\n",
    "#inversion operation\n",
    "im_2 = 255 - im_1\n",
    "#convert image 2 from ndarray to image\n",
    "new_img = Image.fromarray (im_2)\n",
    "img.show()\n",
    "plt.imshow (new_img)\n",
    "plt.show()"
   ]
  }
 ],
 "metadata": {
  "language_info": {
   "name": "python"
  },
  "orig_nbformat": 4
 },
 "nbformat": 4,
 "nbformat_minor": 2
}
