{
 "cells": [
  {
   "cell_type": "code",
   "execution_count": null,
   "metadata": {},
   "outputs": [],
   "source": [
    "from PIL import Image\n",
    "import math\n",
    "import scipy\n",
    "import numpy as np\n",
    "import imageio.v2 as iio\n",
    "import matplotlib.pylab as plt\n",
    "\n",
    "img = Image.open('world_cup.jpg').convert('L')\n",
    "im1 = np.asarray(img)\n",
    "c = abs(scipy.fftpack.fft2(im1))\n",
    "d = scipy.fftpack.fftshift(c)\n",
    "M = d.shape[0]\n",
    "N = d.shape[1]\n",
    "H = np.ones((M, N))\n",
    "\n",
    "center1 = M / 2\n",
    "center2 = N / 2\n",
    "d_0 = 30.0\n",
    "t1 = 1\n",
    "t2 = 2 * t1\n",
    "\n",
    "for i in range(M):\n",
    "    for j in range(N):\n",
    "        r1 = (i - center1)**2 + (j - center2)**2\n",
    "        r = math.sqrt(r1)\n",
    "        if r > 0:\n",
    "            H[i, j] = 1 / (1 + (r / d_0)**t2)\n",
    "\n",
    "H = H.astype(float)\n",
    "H = Image.fromarray(H)\n",
    "con = d * H\n",
    "e = abs(scipy.fftpack.ifft2(con))\n",
    "e = e.astype(float)\n",
    "im3 = Image.fromarray(e)\n",
    "\n",
    "img.show()\n",
    "im3.show()\n",
    "plt.imshow(im3)\n",
    "plt.show()\n"
   ]
  }
 ],
 "metadata": {
  "language_info": {
   "name": "python"
  },
  "orig_nbformat": 4
 },
 "nbformat": 4,
 "nbformat_minor": 2
}
