{
 "cells": [
  {
   "cell_type": "code",
   "execution_count": null,
   "metadata": {},
   "outputs": [],
   "source": [
    "from PIL import Image\n",
    "import math\n",
    "import scipy\n",
    "import numpy as np\n",
    "import imageio.v2 as iio\n",
    "import matplotlib.pylab as plt\n",
    "\n",
    "img = Image.open('world_cup.jpg').convert('L')\n",
    "im1 = np.asarray(img)\n",
    "bl = im1.flatten()\n",
    "hist, bins = np.histogram(im1, 256, [0, 255])\n",
    "cdf = hist.cumsum()\n",
    "cdf_m = np.ma.masked_equal(cdf, 0)\n",
    "num_cdf_m = (cdf_m - cdf_m.min()) * 255\n",
    "den_cdf_m = (cdf.max() - cdf_m.min())\n",
    "cdf_m = num_cdf_m / den_cdf_m\n",
    "cdf = np.ma.filled(cdf_m, 0).astype('uint8')\n",
    "im2 = cdf[bl]\n",
    "im3 = np.reshape(im2, im1.shape)\n",
    "im4 = Image.fromarray(im3)\n",
    "\n",
    "img.show()\n",
    "im4.show()\n",
    "plt.imshow(im4)\n",
    "plt.show()\n"
   ]
  }
 ],
 "metadata": {
  "language_info": {
   "name": "python"
  },
  "orig_nbformat": 4
 },
 "nbformat": 4,
 "nbformat_minor": 2
}
