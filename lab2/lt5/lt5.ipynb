{
 "cells": [
  {
   "cell_type": "code",
   "execution_count": null,
   "metadata": {},
   "outputs": [],
   "source": [
    "from PIL import Image\n",
    "import math\n",
    "import scipy\n",
    "import numpy as np\n",
    "import imageio.v2 as iio\n",
    "import matplotlib.pylab as plt\n",
    "\n",
    "img = Image.open('world_cup.jpg').convert('L')\n",
    "im1 = np.asarray(img)\n",
    "b = im1.max()\n",
    "a = im1.min()\n",
    "print(a, b)\n",
    "c = im1.astype(float)\n",
    "im2 = 255 * (c - a) / (b - a)\n",
    "im3 = Image.fromarray(im2)\n",
    "\n",
    "img.show()\n",
    "im3.show()\n",
    "plt.imshow(im3)\n",
    "plt.show()\n"
   ]
  }
 ],
 "metadata": {
  "language_info": {
   "name": "python"
  },
  "orig_nbformat": 4
 },
 "nbformat": 4,
 "nbformat_minor": 2
}
